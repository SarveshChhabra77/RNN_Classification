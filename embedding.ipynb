{
 "cells": [
  {
   "cell_type": "code",
   "execution_count": 30,
   "id": "491d1a8a",
   "metadata": {},
   "outputs": [],
   "source": [
    "from tensorflow.keras.preprocessing.text import one_hot\n"
   ]
  },
  {
   "cell_type": "code",
   "execution_count": 31,
   "id": "eca52c44",
   "metadata": {},
   "outputs": [],
   "source": [
    "sent=['the glass of milk',\n",
    "           'the glass of juice',\n",
    "           'the cup of tea',\n",
    "           'I am a good boy',\n",
    "           'I am a good developer',\n",
    "           'understand the meaning of words',\n",
    "           'your videos are good',]"
   ]
  },
  {
   "cell_type": "code",
   "execution_count": null,
   "id": "19db71c7",
   "metadata": {},
   "outputs": [],
   "source": [
    "## Define the vocabulary size\n",
    "voc_size=10000"
   ]
  },
  {
   "cell_type": "code",
   "execution_count": 33,
   "id": "41cce309",
   "metadata": {},
   "outputs": [
    {
     "data": {
      "text/plain": [
       "[[6435, 8882, 3172, 5163],\n",
       " [6435, 8882, 3172, 185],\n",
       " [6435, 5964, 3172, 8756],\n",
       " [1890, 892, 3561, 3194, 7752],\n",
       " [1890, 892, 3561, 3194, 385],\n",
       " [4796, 6435, 5947, 3172, 9325],\n",
       " [3284, 4470, 4902, 3194]]"
      ]
     },
     "execution_count": 33,
     "metadata": {},
     "output_type": "execute_result"
    }
   ],
   "source": [
    "## One hot representation\n",
    "one_hot_repr=[one_hot(words,voc_size) for words in sent]\n",
    "one_hot_repr"
   ]
  },
  {
   "cell_type": "code",
   "execution_count": 34,
   "id": "3e18d216",
   "metadata": {},
   "outputs": [],
   "source": [
    "## word embedding representation\n",
    "\n",
    "from tensorflow.keras.layers import Embedding\n",
    "from tensorflow.keras.preprocessing.sequence import pad_sequences\n",
    "from tensorflow.keras.models import Sequential\n"
   ]
  },
  {
   "cell_type": "code",
   "execution_count": 35,
   "id": "32c71a60",
   "metadata": {},
   "outputs": [],
   "source": [
    "import numpy as np\n"
   ]
  },
  {
   "cell_type": "code",
   "execution_count": 54,
   "id": "df9ee728",
   "metadata": {},
   "outputs": [],
   "source": [
    "sent_len=8 # max len of sentence should be same\n",
    "embeded_docs=pad_sequences(one_hot_repr,padding='pre',maxlen=sent_len)\n",
    "## pre menas putting zero at last to get 8 element uh can use pre also"
   ]
  },
  {
   "cell_type": "code",
   "execution_count": 37,
   "id": "b5cd5028",
   "metadata": {},
   "outputs": [
    {
     "name": "stdout",
     "output_type": "stream",
     "text": [
      "[[   0    0    0    0 6435 8882 3172 5163]\n",
      " [   0    0    0    0 6435 8882 3172  185]\n",
      " [   0    0    0    0 6435 5964 3172 8756]\n",
      " [   0    0    0 1890  892 3561 3194 7752]\n",
      " [   0    0    0 1890  892 3561 3194  385]\n",
      " [   0    0    0 4796 6435 5947 3172 9325]\n",
      " [   0    0    0    0 3284 4470 4902 3194]]\n"
     ]
    }
   ],
   "source": [
    "print(embeded_docs)"
   ]
  },
  {
   "cell_type": "code",
   "execution_count": 46,
   "id": "88219855",
   "metadata": {},
   "outputs": [],
   "source": [
    "## Feature representation\n",
    "dim=10\n"
   ]
  },
  {
   "cell_type": "code",
   "execution_count": 56,
   "id": "ff162fcb",
   "metadata": {},
   "outputs": [
    {
     "name": "stderr",
     "output_type": "stream",
     "text": [
      "c:\\Users\\HP\\OneDrive\\Desktop\\Deep Learning\\venv\\Lib\\site-packages\\keras\\src\\layers\\core\\embedding.py:97: UserWarning: Argument `input_length` is deprecated. Just remove it.\n",
      "  warnings.warn(\n"
     ]
    }
   ],
   "source": [
    "model=Sequential()\n",
    "model.add(Embedding(voc_size,dim,input_length=sent_len))\n",
    "model.compile('adam','mse')\n",
    "# model.build(input_shape=(None, sent_len))"
   ]
  },
  {
   "cell_type": "markdown",
   "id": "32e17a9d",
   "metadata": {},
   "source": [
    "None: This is the batch size (unknown/flexible). You don’t need to specify it.\n",
    "\n",
    "sent_len: This is the length of each input sentence, i.e., how many words/tokens are expected in each input sequence."
   ]
  },
  {
   "cell_type": "code",
   "execution_count": 59,
   "id": "7f706a88",
   "metadata": {},
   "outputs": [
    {
     "data": {
      "text/html": [
       "<pre style=\"white-space:pre;overflow-x:auto;line-height:normal;font-family:Menlo,'DejaVu Sans Mono',consolas,'Courier New',monospace\"><span style=\"font-weight: bold\">Model: \"sequential_9\"</span>\n",
       "</pre>\n"
      ],
      "text/plain": [
       "\u001b[1mModel: \"sequential_9\"\u001b[0m\n"
      ]
     },
     "metadata": {},
     "output_type": "display_data"
    },
    {
     "data": {
      "text/html": [
       "<pre style=\"white-space:pre;overflow-x:auto;line-height:normal;font-family:Menlo,'DejaVu Sans Mono',consolas,'Courier New',monospace\">┏━━━━━━━━━━━━━━━━━━━━━━━━━━━━━━━━━┳━━━━━━━━━━━━━━━━━━━━━━━━┳━━━━━━━━━━━━━━━┓\n",
       "┃<span style=\"font-weight: bold\"> Layer (type)                    </span>┃<span style=\"font-weight: bold\"> Output Shape           </span>┃<span style=\"font-weight: bold\">       Param # </span>┃\n",
       "┡━━━━━━━━━━━━━━━━━━━━━━━━━━━━━━━━━╇━━━━━━━━━━━━━━━━━━━━━━━━╇━━━━━━━━━━━━━━━┩\n",
       "│ embedding_9 (<span style=\"color: #0087ff; text-decoration-color: #0087ff\">Embedding</span>)         │ (<span style=\"color: #00af00; text-decoration-color: #00af00\">8</span>, <span style=\"color: #00af00; text-decoration-color: #00af00\">10</span>)                │       <span style=\"color: #00af00; text-decoration-color: #00af00\">100,000</span> │\n",
       "└─────────────────────────────────┴────────────────────────┴───────────────┘\n",
       "</pre>\n"
      ],
      "text/plain": [
       "┏━━━━━━━━━━━━━━━━━━━━━━━━━━━━━━━━━┳━━━━━━━━━━━━━━━━━━━━━━━━┳━━━━━━━━━━━━━━━┓\n",
       "┃\u001b[1m \u001b[0m\u001b[1mLayer (type)                   \u001b[0m\u001b[1m \u001b[0m┃\u001b[1m \u001b[0m\u001b[1mOutput Shape          \u001b[0m\u001b[1m \u001b[0m┃\u001b[1m \u001b[0m\u001b[1m      Param #\u001b[0m\u001b[1m \u001b[0m┃\n",
       "┡━━━━━━━━━━━━━━━━━━━━━━━━━━━━━━━━━╇━━━━━━━━━━━━━━━━━━━━━━━━╇━━━━━━━━━━━━━━━┩\n",
       "│ embedding_9 (\u001b[38;5;33mEmbedding\u001b[0m)         │ (\u001b[38;5;34m8\u001b[0m, \u001b[38;5;34m10\u001b[0m)                │       \u001b[38;5;34m100,000\u001b[0m │\n",
       "└─────────────────────────────────┴────────────────────────┴───────────────┘\n"
      ]
     },
     "metadata": {},
     "output_type": "display_data"
    },
    {
     "data": {
      "text/html": [
       "<pre style=\"white-space:pre;overflow-x:auto;line-height:normal;font-family:Menlo,'DejaVu Sans Mono',consolas,'Courier New',monospace\"><span style=\"font-weight: bold\"> Total params: </span><span style=\"color: #00af00; text-decoration-color: #00af00\">100,000</span> (390.62 KB)\n",
       "</pre>\n"
      ],
      "text/plain": [
       "\u001b[1m Total params: \u001b[0m\u001b[38;5;34m100,000\u001b[0m (390.62 KB)\n"
      ]
     },
     "metadata": {},
     "output_type": "display_data"
    },
    {
     "data": {
      "text/html": [
       "<pre style=\"white-space:pre;overflow-x:auto;line-height:normal;font-family:Menlo,'DejaVu Sans Mono',consolas,'Courier New',monospace\"><span style=\"font-weight: bold\"> Trainable params: </span><span style=\"color: #00af00; text-decoration-color: #00af00\">100,000</span> (390.62 KB)\n",
       "</pre>\n"
      ],
      "text/plain": [
       "\u001b[1m Trainable params: \u001b[0m\u001b[38;5;34m100,000\u001b[0m (390.62 KB)\n"
      ]
     },
     "metadata": {},
     "output_type": "display_data"
    },
    {
     "data": {
      "text/html": [
       "<pre style=\"white-space:pre;overflow-x:auto;line-height:normal;font-family:Menlo,'DejaVu Sans Mono',consolas,'Courier New',monospace\"><span style=\"font-weight: bold\"> Non-trainable params: </span><span style=\"color: #00af00; text-decoration-color: #00af00\">0</span> (0.00 B)\n",
       "</pre>\n"
      ],
      "text/plain": [
       "\u001b[1m Non-trainable params: \u001b[0m\u001b[38;5;34m0\u001b[0m (0.00 B)\n"
      ]
     },
     "metadata": {},
     "output_type": "display_data"
    }
   ],
   "source": [
    "model.summary()"
   ]
  },
  {
   "cell_type": "code",
   "execution_count": 58,
   "id": "1bd4e923",
   "metadata": {},
   "outputs": [
    {
     "name": "stdout",
     "output_type": "stream",
     "text": [
      "\u001b[1m1/1\u001b[0m \u001b[32m━━━━━━━━━━━━━━━━━━━━\u001b[0m\u001b[37m\u001b[0m \u001b[1m0s\u001b[0m 290ms/step\n"
     ]
    },
    {
     "data": {
      "text/plain": [
       "array([[ 0.01095253,  0.00864332,  0.00688281,  0.02039483,  0.00146546,\n",
       "        -0.01923598, -0.0036347 ,  0.02727867, -0.04507754, -0.00650755],\n",
       "       [ 0.01095253,  0.00864332,  0.00688281,  0.02039483,  0.00146546,\n",
       "        -0.01923598, -0.0036347 ,  0.02727867, -0.04507754, -0.00650755],\n",
       "       [ 0.01095253,  0.00864332,  0.00688281,  0.02039483,  0.00146546,\n",
       "        -0.01923598, -0.0036347 ,  0.02727867, -0.04507754, -0.00650755],\n",
       "       [ 0.01095253,  0.00864332,  0.00688281,  0.02039483,  0.00146546,\n",
       "        -0.01923598, -0.0036347 ,  0.02727867, -0.04507754, -0.00650755],\n",
       "       [-0.04794172,  0.01891622,  0.04838877, -0.04810828, -0.03699527,\n",
       "         0.03726342,  0.04220842, -0.03836483,  0.01985428,  0.00308252],\n",
       "       [ 0.00691832, -0.0462642 , -0.01213725,  0.04172533,  0.03984573,\n",
       "         0.02000905,  0.00457   ,  0.01241229, -0.04728106, -0.000198  ],\n",
       "       [-0.00826551,  0.03816673,  0.02771706,  0.01385217,  0.03859274,\n",
       "         0.01790155,  0.04815904, -0.03036109,  0.03230378,  0.02808375],\n",
       "       [-0.03193752,  0.00874216,  0.04829952, -0.01012821, -0.00173963,\n",
       "        -0.03914138,  0.00602902, -0.02237304,  0.03353496, -0.04116844]],\n",
       "      dtype=float32)"
      ]
     },
     "execution_count": 58,
     "metadata": {},
     "output_type": "execute_result"
    }
   ],
   "source": [
    "model.predict(embeded_docs[0])"
   ]
  },
  {
   "cell_type": "code",
   "execution_count": null,
   "metadata": {},
   "outputs": [
    {
     "data": {
      "text/plain": [
       "(8,)"
      ]
     },
     "execution_count": 52,
     "metadata": {},
     "output_type": "execute_result"
    }
   ],
   "source": [
    "embeded_docs[0]"
   ]
  },
  {
   "cell_type": "code",
   "execution_count": null,
   "id": "f42baad3",
   "metadata": {},
   "outputs": [],
   "source": []
  },
  {
   "cell_type": "code",
   "execution_count": null,
   "metadata": {},
   "outputs": [],
   "source": []
  },
  {
   "cell_type": "code",
   "execution_count": null,
   "metadata": {},
   "outputs": [],
   "source": []
  }
 ],
 "metadata": {
  "kernelspec": {
   "display_name": "venv",
   "language": "python",
   "name": "python3"
  },
  "language_info": {
   "codemirror_mode": {
    "name": "ipython",
    "version": 3
   },
   "file_extension": ".py",
   "mimetype": "text/x-python",
   "name": "python",
   "nbconvert_exporter": "python",
   "pygments_lexer": "ipython3",
   "version": "3.11.0"
  }
 },
 "nbformat": 4,
 "nbformat_minor": 5
}
