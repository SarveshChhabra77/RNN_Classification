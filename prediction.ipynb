{
 "cells": [
  {
   "cell_type": "code",
   "execution_count": 37,
   "id": "60ba3324",
   "metadata": {},
   "outputs": [],
   "source": [
    "import numpy as np\n",
    "import tensorflow as ts\n",
    "from tensorflow.keras.datasets import imdb\n",
    "from tensorflow.keras.models import Sequential\n",
    "from tensorflow.keras.models import load_model\n",
    "from tensorflow.keras.preprocessing import sequence"
   ]
  },
  {
   "cell_type": "code",
   "execution_count": 38,
   "id": "3a79d5fe",
   "metadata": {},
   "outputs": [],
   "source": [
    "word_index=imdb.get_word_index()\n",
    "reverse_word_index={values:keys for keys,values in word_index.items()}"
   ]
  },
  {
   "cell_type": "code",
   "execution_count": 39,
   "id": "ef9b9383",
   "metadata": {},
   "outputs": [
    {
     "name": "stderr",
     "output_type": "stream",
     "text": [
      "WARNING:absl:Compiled the loaded model, but the compiled metrics have yet to be built. `model.compile_metrics` will be empty until you train or evaluate the model.\n"
     ]
    },
    {
     "data": {
      "text/html": [
       "<pre style=\"white-space:pre;overflow-x:auto;line-height:normal;font-family:Menlo,'DejaVu Sans Mono',consolas,'Courier New',monospace\"><span style=\"font-weight: bold\">Model: \"sequential\"</span>\n",
       "</pre>\n"
      ],
      "text/plain": [
       "\u001b[1mModel: \"sequential\"\u001b[0m\n"
      ]
     },
     "metadata": {},
     "output_type": "display_data"
    },
    {
     "data": {
      "text/html": [
       "<pre style=\"white-space:pre;overflow-x:auto;line-height:normal;font-family:Menlo,'DejaVu Sans Mono',consolas,'Courier New',monospace\">┏━━━━━━━━━━━━━━━━━━━━━━━━━━━━━━━━━┳━━━━━━━━━━━━━━━━━━━━━━━━┳━━━━━━━━━━━━━━━┓\n",
       "┃<span style=\"font-weight: bold\"> Layer (type)                    </span>┃<span style=\"font-weight: bold\"> Output Shape           </span>┃<span style=\"font-weight: bold\">       Param # </span>┃\n",
       "┡━━━━━━━━━━━━━━━━━━━━━━━━━━━━━━━━━╇━━━━━━━━━━━━━━━━━━━━━━━━╇━━━━━━━━━━━━━━━┩\n",
       "│ embedding (<span style=\"color: #0087ff; text-decoration-color: #0087ff\">Embedding</span>)           │ (<span style=\"color: #00d7ff; text-decoration-color: #00d7ff\">None</span>, <span style=\"color: #00af00; text-decoration-color: #00af00\">500</span>, <span style=\"color: #00af00; text-decoration-color: #00af00\">128</span>)       │     <span style=\"color: #00af00; text-decoration-color: #00af00\">1,280,000</span> │\n",
       "├─────────────────────────────────┼────────────────────────┼───────────────┤\n",
       "│ simple_rnn (<span style=\"color: #0087ff; text-decoration-color: #0087ff\">SimpleRNN</span>)          │ (<span style=\"color: #00d7ff; text-decoration-color: #00d7ff\">None</span>, <span style=\"color: #00af00; text-decoration-color: #00af00\">128</span>)            │        <span style=\"color: #00af00; text-decoration-color: #00af00\">32,896</span> │\n",
       "├─────────────────────────────────┼────────────────────────┼───────────────┤\n",
       "│ dense (<span style=\"color: #0087ff; text-decoration-color: #0087ff\">Dense</span>)                   │ (<span style=\"color: #00d7ff; text-decoration-color: #00d7ff\">None</span>, <span style=\"color: #00af00; text-decoration-color: #00af00\">1</span>)              │           <span style=\"color: #00af00; text-decoration-color: #00af00\">129</span> │\n",
       "└─────────────────────────────────┴────────────────────────┴───────────────┘\n",
       "</pre>\n"
      ],
      "text/plain": [
       "┏━━━━━━━━━━━━━━━━━━━━━━━━━━━━━━━━━┳━━━━━━━━━━━━━━━━━━━━━━━━┳━━━━━━━━━━━━━━━┓\n",
       "┃\u001b[1m \u001b[0m\u001b[1mLayer (type)                   \u001b[0m\u001b[1m \u001b[0m┃\u001b[1m \u001b[0m\u001b[1mOutput Shape          \u001b[0m\u001b[1m \u001b[0m┃\u001b[1m \u001b[0m\u001b[1m      Param #\u001b[0m\u001b[1m \u001b[0m┃\n",
       "┡━━━━━━━━━━━━━━━━━━━━━━━━━━━━━━━━━╇━━━━━━━━━━━━━━━━━━━━━━━━╇━━━━━━━━━━━━━━━┩\n",
       "│ embedding (\u001b[38;5;33mEmbedding\u001b[0m)           │ (\u001b[38;5;45mNone\u001b[0m, \u001b[38;5;34m500\u001b[0m, \u001b[38;5;34m128\u001b[0m)       │     \u001b[38;5;34m1,280,000\u001b[0m │\n",
       "├─────────────────────────────────┼────────────────────────┼───────────────┤\n",
       "│ simple_rnn (\u001b[38;5;33mSimpleRNN\u001b[0m)          │ (\u001b[38;5;45mNone\u001b[0m, \u001b[38;5;34m128\u001b[0m)            │        \u001b[38;5;34m32,896\u001b[0m │\n",
       "├─────────────────────────────────┼────────────────────────┼───────────────┤\n",
       "│ dense (\u001b[38;5;33mDense\u001b[0m)                   │ (\u001b[38;5;45mNone\u001b[0m, \u001b[38;5;34m1\u001b[0m)              │           \u001b[38;5;34m129\u001b[0m │\n",
       "└─────────────────────────────────┴────────────────────────┴───────────────┘\n"
      ]
     },
     "metadata": {},
     "output_type": "display_data"
    },
    {
     "data": {
      "text/html": [
       "<pre style=\"white-space:pre;overflow-x:auto;line-height:normal;font-family:Menlo,'DejaVu Sans Mono',consolas,'Courier New',monospace\"><span style=\"font-weight: bold\"> Total params: </span><span style=\"color: #00af00; text-decoration-color: #00af00\">1,313,027</span> (5.01 MB)\n",
       "</pre>\n"
      ],
      "text/plain": [
       "\u001b[1m Total params: \u001b[0m\u001b[38;5;34m1,313,027\u001b[0m (5.01 MB)\n"
      ]
     },
     "metadata": {},
     "output_type": "display_data"
    },
    {
     "data": {
      "text/html": [
       "<pre style=\"white-space:pre;overflow-x:auto;line-height:normal;font-family:Menlo,'DejaVu Sans Mono',consolas,'Courier New',monospace\"><span style=\"font-weight: bold\"> Trainable params: </span><span style=\"color: #00af00; text-decoration-color: #00af00\">1,313,025</span> (5.01 MB)\n",
       "</pre>\n"
      ],
      "text/plain": [
       "\u001b[1m Trainable params: \u001b[0m\u001b[38;5;34m1,313,025\u001b[0m (5.01 MB)\n"
      ]
     },
     "metadata": {},
     "output_type": "display_data"
    },
    {
     "data": {
      "text/html": [
       "<pre style=\"white-space:pre;overflow-x:auto;line-height:normal;font-family:Menlo,'DejaVu Sans Mono',consolas,'Courier New',monospace\"><span style=\"font-weight: bold\"> Non-trainable params: </span><span style=\"color: #00af00; text-decoration-color: #00af00\">0</span> (0.00 B)\n",
       "</pre>\n"
      ],
      "text/plain": [
       "\u001b[1m Non-trainable params: \u001b[0m\u001b[38;5;34m0\u001b[0m (0.00 B)\n"
      ]
     },
     "metadata": {},
     "output_type": "display_data"
    },
    {
     "data": {
      "text/html": [
       "<pre style=\"white-space:pre;overflow-x:auto;line-height:normal;font-family:Menlo,'DejaVu Sans Mono',consolas,'Courier New',monospace\"><span style=\"font-weight: bold\"> Optimizer params: </span><span style=\"color: #00af00; text-decoration-color: #00af00\">2</span> (12.00 B)\n",
       "</pre>\n"
      ],
      "text/plain": [
       "\u001b[1m Optimizer params: \u001b[0m\u001b[38;5;34m2\u001b[0m (12.00 B)\n"
      ]
     },
     "metadata": {},
     "output_type": "display_data"
    }
   ],
   "source": [
    "model = load_model('simple_rnn_imdb.h5')\n",
    "model.summary()"
   ]
  },
  {
   "cell_type": "code",
   "execution_count": 40,
   "id": "9ab21fdf",
   "metadata": {},
   "outputs": [
    {
     "data": {
      "text/plain": [
       "[array([[ 8.8194883e-01, -1.1300509e-01,  9.6934605e-01, ...,\n",
       "          2.4408050e-02,  1.5889141e-01,  7.9209663e-02],\n",
       "        [ 3.8533341e-02, -1.6914947e-02,  8.7462373e-02, ...,\n",
       "         -2.1802122e-02, -1.8316021e-02,  2.0394156e-02],\n",
       "        [ 1.2049143e-02, -1.0004273e-01,  1.2727512e-01, ...,\n",
       "          5.4024860e-02, -1.0804682e-01, -1.2827571e-01],\n",
       "        ...,\n",
       "        [ 5.1275194e-02,  1.3643479e-02,  1.5117590e-01, ...,\n",
       "         -3.4183334e-04, -2.8332632e-02,  4.1661080e-02],\n",
       "        [-2.0508789e-02,  7.0766829e-02, -4.3808132e-02, ...,\n",
       "          7.8709736e-02, -4.0999591e-02, -5.7765059e-02],\n",
       "        [ 8.5942494e-03, -2.7550455e-02, -4.2381868e-02, ...,\n",
       "         -3.0288668e-02, -1.5610461e-02,  1.3435834e-02]], dtype=float32),\n",
       " array([[-0.07046887,  0.16284932, -0.07682014, ...,  0.0998662 ,\n",
       "         -0.13968925,  0.12493205],\n",
       "        [ 0.12936595,  0.12271135,  0.09470681, ..., -0.00491141,\n",
       "          0.16374545, -0.18371756],\n",
       "        [ 0.03766229, -0.17055666, -0.0388631 , ..., -0.06199537,\n",
       "         -0.08861795, -0.01420486],\n",
       "        ...,\n",
       "        [-0.18504356, -0.18384284, -0.03083379, ..., -0.08584764,\n",
       "         -0.00267276, -0.02099466],\n",
       "        [ 0.18537451,  0.09806183, -0.13394625, ...,  0.1130204 ,\n",
       "          0.06844527, -0.02446419],\n",
       "        [ 0.0983348 ,  0.17999315,  0.02654521, ..., -0.05572644,\n",
       "         -0.02089767, -0.09147286]], dtype=float32),\n",
       " array([[-0.04723259,  0.03055613,  0.06693687, ...,  0.18329665,\n",
       "         -0.05111786, -0.04727903],\n",
       "        [ 0.03668988,  0.09355003,  0.01219502, ...,  0.06364199,\n",
       "         -0.0666045 ,  0.02762022],\n",
       "        [ 0.07323446, -0.01732178,  0.18700019, ..., -0.13310447,\n",
       "          0.168958  , -0.03623993],\n",
       "        ...,\n",
       "        [ 0.01723675, -0.1250345 ,  0.24992456, ..., -0.08324984,\n",
       "         -0.14482646,  0.02757359],\n",
       "        [ 0.07133989,  0.03009382, -0.00780037, ...,  0.04982704,\n",
       "         -0.05466996,  0.08698431],\n",
       "        [ 0.06886382, -0.00509351,  0.16911311, ..., -0.02873881,\n",
       "          0.25632012, -0.0811669 ]], dtype=float32),\n",
       " array([ 0.00279787,  0.00627061, -0.02979111, -0.01998345,  0.00121561,\n",
       "         0.01037558, -0.01739058, -0.04909067,  0.01854888,  0.02559799,\n",
       "        -0.04276564,  0.01456961, -0.05626009,  0.01900316, -0.00217877,\n",
       "        -0.01894134,  0.00897875, -0.01216428, -0.04670114,  0.00413775,\n",
       "         0.02374608,  0.00301474, -0.00498018,  0.01777895,  0.02287569,\n",
       "        -0.03156069, -0.02643717,  0.02552354,  0.0307384 , -0.01931171,\n",
       "        -0.06454835,  0.01305987, -0.01340546, -0.04697445, -0.03615848,\n",
       "        -0.01685572, -0.03409265,  0.00238635,  0.0025603 , -0.02874434,\n",
       "        -0.0035668 ,  0.00344244,  0.0056291 , -0.00774363, -0.02584023,\n",
       "        -0.01698927, -0.03442027, -0.03155032, -0.03069718, -0.00574963,\n",
       "        -0.0457389 ,  0.02882363,  0.02622596, -0.05820621,  0.0398949 ,\n",
       "         0.00326866, -0.02893297,  0.02058783, -0.02698   , -0.04137812,\n",
       "         0.04150373, -0.0110603 , -0.04510469,  0.02657336,  0.01105818,\n",
       "        -0.0345041 , -0.00280601, -0.035839  , -0.04197396, -0.04557434,\n",
       "        -0.0474177 , -0.00276031,  0.05474648,  0.01051909, -0.02102044,\n",
       "        -0.01969071, -0.01970107, -0.0162507 ,  0.02736528, -0.02546227,\n",
       "        -0.01924549, -0.01632615, -0.0347295 , -0.01424461, -0.04177104,\n",
       "        -0.05576515, -0.01467397, -0.0231665 , -0.03797767, -0.04764076,\n",
       "        -0.01649437, -0.04128033, -0.04152738, -0.03544789, -0.03805356,\n",
       "        -0.0548533 ,  0.00456668, -0.04644806, -0.03588908, -0.02394234,\n",
       "         0.00350773, -0.01209547,  0.03756102, -0.0363874 ,  0.02539025,\n",
       "        -0.02906192,  0.01400771, -0.03643925, -0.03738603,  0.01682758,\n",
       "        -0.03415501, -0.02924463, -0.05778102,  0.00072511, -0.04803014,\n",
       "        -0.04083361, -0.01349163, -0.00311357, -0.00914253, -0.02640476,\n",
       "        -0.02370679,  0.05015113,  0.00948976, -0.01572597, -0.03526101,\n",
       "        -0.05491536, -0.06591672,  0.00045913], dtype=float32),\n",
       " array([[ 1.21275298e-01],\n",
       "        [ 1.97113410e-01],\n",
       "        [-2.60424539e-02],\n",
       "        [ 4.01358679e-03],\n",
       "        [ 1.06223002e-01],\n",
       "        [ 2.27293223e-01],\n",
       "        [ 1.91086546e-01],\n",
       "        [-4.64394204e-02],\n",
       "        [ 4.45260584e-01],\n",
       "        [ 1.65216494e-02],\n",
       "        [-4.50916290e-01],\n",
       "        [ 1.40028611e-01],\n",
       "        [ 1.73107937e-01],\n",
       "        [-1.00002168e-02],\n",
       "        [-9.17265713e-02],\n",
       "        [ 8.02400261e-02],\n",
       "        [-7.11082369e-02],\n",
       "        [-1.22155055e-01],\n",
       "        [-4.77707945e-03],\n",
       "        [-1.51600972e-01],\n",
       "        [-1.42379433e-01],\n",
       "        [-1.06498562e-02],\n",
       "        [-1.94957480e-01],\n",
       "        [-2.06296727e-01],\n",
       "        [-6.44427314e-02],\n",
       "        [ 1.67352811e-01],\n",
       "        [ 1.65052310e-01],\n",
       "        [-8.77536237e-02],\n",
       "        [ 1.07216714e-02],\n",
       "        [ 2.41413027e-01],\n",
       "        [-1.41279072e-01],\n",
       "        [ 6.69810995e-02],\n",
       "        [-2.42598042e-01],\n",
       "        [-2.03060091e-01],\n",
       "        [ 9.71630141e-02],\n",
       "        [-2.80254632e-02],\n",
       "        [ 3.67480447e-03],\n",
       "        [ 1.97198257e-01],\n",
       "        [ 2.80678540e-01],\n",
       "        [ 8.63862038e-02],\n",
       "        [-1.19936854e-01],\n",
       "        [ 7.65170902e-02],\n",
       "        [ 1.70667753e-01],\n",
       "        [-1.16527118e-01],\n",
       "        [ 2.29585376e-02],\n",
       "        [ 2.30128646e-01],\n",
       "        [ 1.27171904e-01],\n",
       "        [ 1.91488624e-01],\n",
       "        [ 1.36841819e-01],\n",
       "        [-9.72031653e-02],\n",
       "        [ 4.64816391e-03],\n",
       "        [-8.77671689e-02],\n",
       "        [-6.44052401e-02],\n",
       "        [ 1.73969775e-01],\n",
       "        [ 1.54626802e-01],\n",
       "        [ 6.72570020e-02],\n",
       "        [-6.84471652e-02],\n",
       "        [-2.44836912e-01],\n",
       "        [ 2.01304555e-01],\n",
       "        [ 3.23395580e-01],\n",
       "        [-1.52601719e-01],\n",
       "        [-1.12908103e-01],\n",
       "        [-3.80695723e-02],\n",
       "        [-1.15007199e-01],\n",
       "        [-2.60089394e-02],\n",
       "        [ 3.69645171e-02],\n",
       "        [ 2.69734859e-01],\n",
       "        [ 3.48647952e-01],\n",
       "        [ 1.72887221e-01],\n",
       "        [-5.21910526e-02],\n",
       "        [ 1.97292835e-01],\n",
       "        [-2.12247878e-01],\n",
       "        [-5.18376864e-02],\n",
       "        [-1.19530290e-01],\n",
       "        [ 1.10206291e-01],\n",
       "        [ 2.06240058e-01],\n",
       "        [ 7.17819408e-02],\n",
       "        [ 1.95986286e-01],\n",
       "        [ 9.53922141e-03],\n",
       "        [-4.28667925e-02],\n",
       "        [ 2.37471804e-01],\n",
       "        [ 7.10051332e-04],\n",
       "        [-4.81316410e-02],\n",
       "        [ 9.12523866e-01],\n",
       "        [ 1.30071163e-01],\n",
       "        [ 8.57935473e-02],\n",
       "        [-1.14999764e-01],\n",
       "        [-3.93452309e-02],\n",
       "        [-9.43012759e-02],\n",
       "        [ 1.41752794e-01],\n",
       "        [-2.28026196e-01],\n",
       "        [-5.94710335e-02],\n",
       "        [ 5.35240769e-01],\n",
       "        [-1.55322626e-01],\n",
       "        [ 2.14350447e-01],\n",
       "        [-7.57968351e-02],\n",
       "        [-3.08124553e-02],\n",
       "        [-2.24766433e-01],\n",
       "        [-7.43658515e-03],\n",
       "        [-2.28781581e-01],\n",
       "        [-1.56083956e-01],\n",
       "        [-1.08690128e-01],\n",
       "        [-3.55203673e-02],\n",
       "        [-6.80558085e-02],\n",
       "        [-9.49319154e-02],\n",
       "        [ 2.51652058e-02],\n",
       "        [-1.95604369e-01],\n",
       "        [ 1.56574011e-01],\n",
       "        [ 2.08861366e-01],\n",
       "        [ 5.42058013e-02],\n",
       "        [-4.56428044e-02],\n",
       "        [-2.26501927e-01],\n",
       "        [-2.49736518e-01],\n",
       "        [ 1.82772055e-01],\n",
       "        [-1.72156140e-01],\n",
       "        [ 1.39560670e-01],\n",
       "        [-1.18112199e-01],\n",
       "        [-2.22685814e-01],\n",
       "        [-1.96555465e-01],\n",
       "        [ 1.83695555e-01],\n",
       "        [-4.05298263e-01],\n",
       "        [ 8.95049125e-02],\n",
       "        [ 1.23148419e-01],\n",
       "        [ 2.12296709e-01],\n",
       "        [ 7.21813366e-02],\n",
       "        [ 2.91399583e-02],\n",
       "        [-1.02090603e-02],\n",
       "        [ 9.33579728e-03]], dtype=float32),\n",
       " array([0.6673876], dtype=float32)]"
      ]
     },
     "execution_count": 40,
     "metadata": {},
     "output_type": "execute_result"
    }
   ],
   "source": [
    "## getting weights\n",
    "model.get_weights()"
   ]
  },
  {
   "cell_type": "code",
   "execution_count": 41,
   "id": "39853215",
   "metadata": {},
   "outputs": [],
   "source": [
    "## Helper function\n",
    "# function decode reviews\n",
    "def decode_review(encoded_reviews):\n",
    "    return ' '.join([reverse_word_index.get(i-3,'?') for i in encoded_reviews])\n",
    "\n",
    "\n",
    "# function to preprocess user input\n",
    "def preprocess_text(text):\n",
    "    words= text.lower().split()\n",
    "    encoded_reviews=[word_index.get(word,2) + 3 for word in words]\n",
    "    paded_review=sequence.pad_sequences([encoded_reviews],maxlen=500)\n",
    "    return paded_review\n"
   ]
  },
  {
   "cell_type": "code",
   "execution_count": 42,
   "id": "a6b81826",
   "metadata": {},
   "outputs": [],
   "source": [
    "## Prediction function\n",
    "\n",
    "def predict_sentiment(review):\n",
    "    preprocessed_input=preprocess_text(review)\n",
    "    prediction=model.predict(preprocessed_input)\n",
    "    sentiments = 'Positive ' if prediction[0][0]>0.5 else 'Negative'\n",
    "    return sentiments,prediction[0][0]\n",
    "    "
   ]
  },
  {
   "cell_type": "code",
   "execution_count": 52,
   "id": "32707e5c",
   "metadata": {},
   "outputs": [
    {
     "name": "stdout",
     "output_type": "stream",
     "text": [
      "\u001b[1m1/1\u001b[0m \u001b[32m━━━━━━━━━━━━━━━━━━━━\u001b[0m\u001b[37m\u001b[0m \u001b[1m0s\u001b[0m 78ms/step\n",
      "Review : Movie was awesome i loved watching it\n",
      "Sentiments : Positive \n",
      "Prediction Score : 0.9930878281593323\n"
     ]
    }
   ],
   "source": [
    "## User input and prediction\n",
    "example_review='Movie was awesome i loved watching it'\n",
    "sentiments,prediction_score=predict_sentiment(example_review)\n",
    "\n",
    "print(f'Review : {example_review}')\n",
    "print(f'Sentiments : {sentiments}')\n",
    "print(f'Prediction Score : {prediction_score}')"
   ]
  },
  {
   "cell_type": "code",
   "execution_count": null,
   "id": "5d6a4436",
   "metadata": {},
   "outputs": [],
   "source": []
  }
 ],
 "metadata": {
  "kernelspec": {
   "display_name": "venv",
   "language": "python",
   "name": "python3"
  },
  "language_info": {
   "codemirror_mode": {
    "name": "ipython",
    "version": 3
   },
   "file_extension": ".py",
   "mimetype": "text/x-python",
   "name": "python",
   "nbconvert_exporter": "python",
   "pygments_lexer": "ipython3",
   "version": "3.11.0"
  }
 },
 "nbformat": 4,
 "nbformat_minor": 5
}
